{
 "cells": [
  {
   "cell_type": "raw",
   "id": "13519e0e-dda4-4c4d-900a-2fcbb730a3d9",
   "metadata": {},
   "source": [
    "Sharding-- Sharding in MongoDB is a data distribution and partitioning technique used to horizontally scale large databases across multiple servers or nodes. It enables MongoDB to handle high-volume data and heavy read/write workloads by distributing data across multiple machines in a cluster, thus improving performance, storage capacity, and overall scalability.\n",
    "\n",
    "Working of Sharding--\n",
    "1- Sharding Key Selection: A sharding key is chosen for the collection that needs to be sharded. \n",
    "2- "
   ]
  }
 ],
 "metadata": {
  "kernelspec": {
   "display_name": "Python 3 (ipykernel)",
   "language": "python",
   "name": "python3"
  },
  "language_info": {
   "codemirror_mode": {
    "name": "ipython",
    "version": 3
   },
   "file_extension": ".py",
   "mimetype": "text/x-python",
   "name": "python",
   "nbconvert_exporter": "python",
   "pygments_lexer": "ipython3",
   "version": "3.10.8"
  }
 },
 "nbformat": 4,
 "nbformat_minor": 5
}
